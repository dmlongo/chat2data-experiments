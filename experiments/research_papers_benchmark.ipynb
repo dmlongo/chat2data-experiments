{
 "cells": [
  {
   "cell_type": "code",
   "execution_count": 2,
   "metadata": {},
   "outputs": [],
   "source": [
    "import numpy as np\n",
    "import pandas as pd\n",
    "from langchain_openai import OpenAIEmbeddings\n",
    "from sklearn.linear_model import LogisticRegression\n",
    "from sklearn.metrics import (\n",
    "    accuracy_score,\n",
    "    classification_report,\n",
    "    confusion_matrix,\n",
    "    f1_score,\n",
    "    precision_score,\n",
    "    recall_score,\n",
    ")\n",
    "from sklearn.model_selection import train_test_split\n",
    "from sklearn.naive_bayes import GaussianNB\n",
    "from sklearn.neural_network import MLPClassifier"
   ]
  },
  {
   "cell_type": "code",
   "execution_count": 3,
   "metadata": {},
   "outputs": [],
   "source": [
    "# ----- Step 1: Load Positive and Negative Pairs -----\n",
    "df_positive = pd.read_csv(\"positive_pairs.csv\")\n",
    "df_negative = pd.read_csv(\"negative_pairs.csv\")\n",
    "\n",
    "# Combine into one DataFrame.\n",
    "df_pairs = pd.concat([df_positive, df_negative], ignore_index=True)"
   ]
  },
  {
   "cell_type": "code",
   "execution_count": 4,
   "metadata": {},
   "outputs": [],
   "source": [
    "# ----- Step 2: Create a Text Representation for Each Paper -----\n",
    "# Here we combine title and abstract into a single \"definition\" for each paper.\n",
    "df_pairs[\"paper1_text\"] = df_pairs[\"title_1\"] + \". \" + df_pairs[\"abstract_1\"]\n",
    "df_pairs[\"paper2_text\"] = df_pairs[\"title_2\"] + \". \" + df_pairs[\"abstract_2\"]"
   ]
  },
  {
   "cell_type": "code",
   "execution_count": 5,
   "metadata": {},
   "outputs": [],
   "source": [
    "# ----- Step 3: Prepare Data for Embedding Generation -----\n",
    "X1 = df_pairs['paper1_text'].tolist()\n",
    "X2 = df_pairs['paper2_text'].tolist()\n",
    "y = df_pairs['label'].tolist()"
   ]
  },
  {
   "cell_type": "code",
   "execution_count": 6,
   "metadata": {},
   "outputs": [
    {
     "name": "stdout",
     "output_type": "stream",
     "text": [
      "Number of 1s: 500\n",
      "Number of 0s: 500\n"
     ]
    }
   ],
   "source": [
    "num_ones = y.count(1)\n",
    "num_zeros = y.count(0)\n",
    "\n",
    "print(f\"Number of 1s: {num_ones}\")\n",
    "print(f\"Number of 0s: {num_zeros}\")"
   ]
  },
  {
   "cell_type": "code",
   "execution_count": 7,
   "metadata": {},
   "outputs": [],
   "source": [
    "# ----- Step 4: Generate Embeddings Using OpenAIEmbeddings -----\n",
    "embeddings_model = OpenAIEmbeddings()\n",
    "\n",
    "# Generate embeddings for each paper text (this may take a while if you have many pairs)\n",
    "embeddings1 = embeddings_model.embed_documents(X1)\n",
    "embeddings2 = embeddings_model.embed_documents(X2)"
   ]
  },
  {
   "cell_type": "code",
   "execution_count": 8,
   "metadata": {},
   "outputs": [],
   "source": [
    "# ----- Step 5: Combine Embeddings into a Single Feature Vector per Pair -----\n",
    "# Here we concatenate the two embeddings.\n",
    "features = [np.concatenate([np.array(e1), np.array(e2)]) for e1, e2 in zip(embeddings1, embeddings2)]\n",
    "features = np.array(features)"
   ]
  },
  {
   "cell_type": "code",
   "execution_count": 9,
   "metadata": {},
   "outputs": [],
   "source": [
    "# ----- Step 6: Train/Test Split -----\n",
    "train_X, test_X, train_y, test_y = train_test_split(features, y, test_size=0.2, random_state=42)"
   ]
  },
  {
   "cell_type": "code",
   "execution_count": 13,
   "metadata": {},
   "outputs": [
    {
     "name": "stdout",
     "output_type": "stream",
     "text": [
      "=== Logistic Regression ===\n",
      "Classification Report:\n",
      "               precision    recall  f1-score   support\n",
      "\n",
      "           0       0.70      0.55      0.61       104\n",
      "           1       0.60      0.74      0.66        96\n",
      "\n",
      "    accuracy                           0.64       200\n",
      "   macro avg       0.65      0.64      0.64       200\n",
      "weighted avg       0.65      0.64      0.64       200\n",
      "\n",
      "Accuracy: 0.6400\n",
      "Precision: 0.6017\n",
      "Recall (Sensitivity): 0.7396\n",
      "Specificity: 0.5481\n",
      "F1 Score: 0.6636\n",
      "\n",
      "=== GaussianNB ===\n",
      "Classification Report:\n",
      "               precision    recall  f1-score   support\n",
      "\n",
      "           0       0.68      0.54      0.60       104\n",
      "           1       0.59      0.73      0.65        96\n",
      "\n",
      "    accuracy                           0.63       200\n",
      "   macro avg       0.64      0.63      0.63       200\n",
      "weighted avg       0.64      0.63      0.63       200\n",
      "\n",
      "Accuracy: 0.6300\n",
      "Precision: 0.5932\n",
      "Recall (Sensitivity): 0.7292\n",
      "Specificity: 0.5385\n",
      "F1 Score: 0.6542\n",
      "\n",
      "=== MLPClassifier ===\n",
      "Classification Report:\n",
      "               precision    recall  f1-score   support\n",
      "\n",
      "           0       0.57      0.52      0.55       104\n",
      "           1       0.53      0.58      0.55        96\n",
      "\n",
      "    accuracy                           0.55       200\n",
      "   macro avg       0.55      0.55      0.55       200\n",
      "weighted avg       0.55      0.55      0.55       200\n",
      "\n",
      "Accuracy: 0.5500\n",
      "Precision: 0.5283\n",
      "Recall (Sensitivity): 0.5833\n",
      "Specificity: 0.5192\n",
      "F1 Score: 0.5545\n",
      "\n"
     ]
    }
   ],
   "source": [
    "# ----- Step 7: Define and Train Classifiers -----\n",
    "# Initialize classifiers.\n",
    "classifiers = {\n",
    "    \"Logistic Regression\": LogisticRegression(max_iter=1000),\n",
    "    \"GaussianNB\": GaussianNB(),\n",
    "    \"MLPClassifier\": MLPClassifier(max_iter=1000),\n",
    "}\n",
    "\n",
    "# Train and evaluate each classifier.\n",
    "for clf_name, clf in classifiers.items():\n",
    "    clf.fit(train_X, train_y)\n",
    "    pred_y = clf.predict(test_X)\n",
    "\n",
    "    print(f\"=== {clf_name} ===\")\n",
    "\n",
    "    y_true = test_y\n",
    "    y_pred = pred_y\n",
    "\n",
    "    # Compute accuracy, precision, recall, and F1 score\n",
    "    # We assume 1 is the positive class. Adjust pos_label if needed.\n",
    "    accuracy = accuracy_score(y_true, y_pred)\n",
    "    precision = precision_score(y_true, y_pred, pos_label=1, zero_division=0)\n",
    "    recall = recall_score(y_true, y_pred, pos_label=1, zero_division=0)\n",
    "    f1 = f1_score(y_true, y_pred, pos_label=1, zero_division=0)\n",
    "\n",
    "    # Compute the confusion matrix to extract specificity.\n",
    "    # Specify the order of labels to ensure consistency.\n",
    "    tn, fp, fn, tp = confusion_matrix(y_true, y_pred, labels=[0, 1]).ravel()\n",
    "    specificity = tn / (tn + fp) if (tn + fp) > 0 else 0\n",
    "\n",
    "    # Generate the full classification report\n",
    "    report = classification_report(y_true, y_pred, zero_division=0)\n",
    "\n",
    "    # Print the results\n",
    "    print(\"Classification Report:\\n\", report)\n",
    "    print(f\"Accuracy: {accuracy:.4f}\")\n",
    "    print(f\"Precision: {precision:.4f}\")\n",
    "    print(f\"Recall (Sensitivity): {recall:.4f}\")\n",
    "    print(f\"Specificity: {specificity:.4f}\")\n",
    "    print(f\"F1 Score: {f1:.4f}\")\n",
    "    print()"
   ]
  },
  {
   "cell_type": "code",
   "execution_count": null,
   "metadata": {},
   "outputs": [
    {
     "name": "stdout",
     "output_type": "stream",
     "text": [
      "800\n",
      "200\n",
      "800\n",
      "200\n"
     ]
    }
   ],
   "source": [
    "print(len(train_X))\n",
    "print(len(test_X))\n",
    "print(len(train_y))\n",
    "print(len(test_y))"
   ]
  }
 ],
 "metadata": {
  "kernelspec": {
   "display_name": ".venv",
   "language": "python",
   "name": "python3"
  },
  "language_info": {
   "codemirror_mode": {
    "name": "ipython",
    "version": 3
   },
   "file_extension": ".py",
   "mimetype": "text/x-python",
   "name": "python",
   "nbconvert_exporter": "python",
   "pygments_lexer": "ipython3",
   "version": "3.12.9"
  }
 },
 "nbformat": 4,
 "nbformat_minor": 2
}
