{
 "cells": [
  {
   "cell_type": "code",
   "execution_count": 1,
   "metadata": {},
   "outputs": [],
   "source": [
    "import numpy as np\n",
    "import pandas as pd\n",
    "from langchain_openai import OpenAIEmbeddings\n",
    "from sklearn.linear_model import LogisticRegression\n",
    "from sklearn.metrics import (\n",
    "    accuracy_score,\n",
    "    classification_report,\n",
    "    confusion_matrix,\n",
    "    f1_score,\n",
    "    precision_score,\n",
    "    recall_score,\n",
    ")\n",
    "from sklearn.model_selection import train_test_split\n",
    "from sklearn.naive_bayes import GaussianNB\n",
    "from sklearn.neural_network import MLPClassifier"
   ]
  },
  {
   "cell_type": "code",
   "execution_count": 4,
   "metadata": {},
   "outputs": [],
   "source": [
    "# ----- Step 1: Load Data -----\n",
    "df_pairs = pd.read_csv(\"../../data/products_substitution.csv\")"
   ]
  },
  {
   "cell_type": "code",
   "execution_count": 6,
   "metadata": {},
   "outputs": [],
   "source": [
    "# ----- Step 2: Create a Text Representation for Each Entity -----\n",
    "df_pairs[\"product1\"] = df_pairs[\"focal_entity\"]\n",
    "df_pairs[\"product2\"] = df_pairs[\"candidate_entity\"]"
   ]
  },
  {
   "cell_type": "code",
   "execution_count": 7,
   "metadata": {},
   "outputs": [],
   "source": [
    "# ----- Step 3: Prepare Data for Embedding Generation -----\n",
    "X1 = df_pairs['product1'].tolist()\n",
    "X2 = df_pairs['product2'].tolist()\n",
    "y = df_pairs['label'].tolist()"
   ]
  },
  {
   "cell_type": "code",
   "execution_count": 8,
   "metadata": {},
   "outputs": [
    {
     "name": "stdout",
     "output_type": "stream",
     "text": [
      "Number of 1s: 170\n",
      "Number of 0s: 237\n"
     ]
    }
   ],
   "source": [
    "num_ones = y.count(1)\n",
    "num_zeros = y.count(0)\n",
    "\n",
    "print(f\"Number of 1s: {num_ones}\")\n",
    "print(f\"Number of 0s: {num_zeros}\")"
   ]
  },
  {
   "cell_type": "code",
   "execution_count": 9,
   "metadata": {},
   "outputs": [],
   "source": [
    "# ----- Step 4: Generate Embeddings Using OpenAIEmbeddings -----\n",
    "embeddings_model = OpenAIEmbeddings()\n",
    "\n",
    "# Generate embeddings for each entity text\n",
    "embeddings1 = embeddings_model.embed_documents(X1)\n",
    "embeddings2 = embeddings_model.embed_documents(X2)"
   ]
  },
  {
   "cell_type": "code",
   "execution_count": 10,
   "metadata": {},
   "outputs": [],
   "source": [
    "# ----- Step 5: Combine Embeddings into a Single Feature Vector per Pair -----\n",
    "features = [np.concatenate([np.array(e1), np.array(e2)]) for e1, e2 in zip(embeddings1, embeddings2)]\n",
    "features = np.array(features)"
   ]
  },
  {
   "cell_type": "code",
   "execution_count": 11,
   "metadata": {},
   "outputs": [],
   "source": [
    "# ----- Step 6: Train/Test Split -----\n",
    "train_X, test_X, train_y, test_y = train_test_split(features, y, test_size=0.2, random_state=42)"
   ]
  },
  {
   "cell_type": "code",
   "execution_count": 12,
   "metadata": {},
   "outputs": [
    {
     "name": "stdout",
     "output_type": "stream",
     "text": [
      "=== Logistic Regression ===\n",
      "Classification Report:\n",
      "               precision    recall  f1-score   support\n",
      "\n",
      "       False       0.54      0.83      0.65        46\n",
      "        True       0.27      0.08      0.13        36\n",
      "\n",
      "    accuracy                           0.50        82\n",
      "   macro avg       0.40      0.45      0.39        82\n",
      "weighted avg       0.42      0.50      0.42        82\n",
      "\n",
      "Accuracy: 0.5000\n",
      "Precision: 0.2727\n",
      "Recall (Sensitivity): 0.0833\n",
      "Specificity: 0.8261\n",
      "F1 Score: 0.1277\n",
      "\n",
      "=== GaussianNB ===\n",
      "Classification Report:\n",
      "               precision    recall  f1-score   support\n",
      "\n",
      "       False       0.49      0.46      0.47        46\n",
      "        True       0.36      0.39      0.37        36\n",
      "\n",
      "    accuracy                           0.43        82\n",
      "   macro avg       0.42      0.42      0.42        82\n",
      "weighted avg       0.43      0.43      0.43        82\n",
      "\n",
      "Accuracy: 0.4268\n",
      "Precision: 0.3590\n",
      "Recall (Sensitivity): 0.3889\n",
      "Specificity: 0.4565\n",
      "F1 Score: 0.3733\n",
      "\n",
      "=== MLPClassifier ===\n",
      "Classification Report:\n",
      "               precision    recall  f1-score   support\n",
      "\n",
      "       False       0.53      0.57      0.55        46\n",
      "        True       0.39      0.36      0.38        36\n",
      "\n",
      "    accuracy                           0.48        82\n",
      "   macro avg       0.46      0.46      0.46        82\n",
      "weighted avg       0.47      0.48      0.47        82\n",
      "\n",
      "Accuracy: 0.4756\n",
      "Precision: 0.3939\n",
      "Recall (Sensitivity): 0.3611\n",
      "Specificity: 0.5652\n",
      "F1 Score: 0.3768\n",
      "\n"
     ]
    }
   ],
   "source": [
    "# ----- Step 7: Define and Train Classifiers -----\n",
    "# Initialize classifiers.\n",
    "classifiers = {\n",
    "    \"Logistic Regression\": LogisticRegression(max_iter=1000),\n",
    "    \"GaussianNB\": GaussianNB(),\n",
    "    \"MLPClassifier\": MLPClassifier(max_iter=1000),\n",
    "}\n",
    "\n",
    "# Train and evaluate each classifier.\n",
    "for clf_name, clf in classifiers.items():\n",
    "    clf.fit(train_X, train_y)\n",
    "    pred_y = clf.predict(test_X)\n",
    "\n",
    "    print(f\"=== {clf_name} ===\")\n",
    "\n",
    "    y_true = test_y\n",
    "    y_pred = pred_y\n",
    "\n",
    "    # Compute accuracy, precision, recall, and F1 score\n",
    "    # We assume 1 is the positive class. Adjust pos_label if needed.\n",
    "    accuracy = accuracy_score(y_true, y_pred)\n",
    "    precision = precision_score(y_true, y_pred, pos_label=1, zero_division=0)\n",
    "    recall = recall_score(y_true, y_pred, pos_label=1, zero_division=0)\n",
    "    f1 = f1_score(y_true, y_pred, pos_label=1, zero_division=0)\n",
    "\n",
    "    # Compute the confusion matrix to extract specificity.\n",
    "    # Specify the order of labels to ensure consistency.\n",
    "    tn, fp, fn, tp = confusion_matrix(y_true, y_pred, labels=[0, 1]).ravel()\n",
    "    specificity = tn / (tn + fp) if (tn + fp) > 0 else 0\n",
    "\n",
    "    # Generate the full classification report\n",
    "    report = classification_report(y_true, y_pred, zero_division=0)\n",
    "\n",
    "    # Print the results\n",
    "    print(\"Classification Report:\\n\", report)\n",
    "    print(f\"Accuracy: {accuracy:.4f}\")\n",
    "    print(f\"Precision: {precision:.4f}\")\n",
    "    print(f\"Recall (Sensitivity): {recall:.4f}\")\n",
    "    print(f\"Specificity: {specificity:.4f}\")\n",
    "    print(f\"F1 Score: {f1:.4f}\")\n",
    "    print()"
   ]
  },
  {
   "cell_type": "code",
   "execution_count": 13,
   "metadata": {},
   "outputs": [
    {
     "name": "stdout",
     "output_type": "stream",
     "text": [
      "325\n",
      "82\n",
      "325\n",
      "82\n"
     ]
    }
   ],
   "source": [
    "print(len(train_X))\n",
    "print(len(test_X))\n",
    "print(len(train_y))\n",
    "print(len(test_y))"
   ]
  }
 ],
 "metadata": {
  "kernelspec": {
   "display_name": ".venv",
   "language": "python",
   "name": "python3"
  },
  "language_info": {
   "codemirror_mode": {
    "name": "ipython",
    "version": 3
   },
   "file_extension": ".py",
   "mimetype": "text/x-python",
   "name": "python",
   "nbconvert_exporter": "python",
   "pygments_lexer": "ipython3",
   "version": "3.12.9"
  }
 },
 "nbformat": 4,
 "nbformat_minor": 2
}
