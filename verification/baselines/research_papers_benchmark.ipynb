{
 "cells": [
  {
   "cell_type": "code",
   "execution_count": 18,
   "metadata": {
    "pycharm": {
     "name": "#%%\n"
    }
   },
   "outputs": [],
   "source": [
    "import numpy as np\n",
    "import pandas as pd\n",
    "from langchain_openai import OpenAIEmbeddings\n",
    "from sklearn.linear_model import LogisticRegression\n",
    "from sklearn.metrics import classification_report\n",
    "from sklearn.model_selection import train_test_split\n",
    "from sklearn.naive_bayes import GaussianNB\n",
    "from sklearn.neural_network import MLPClassifier"
   ]
  },
  {
   "cell_type": "code",
   "execution_count": 19,
   "metadata": {
    "pycharm": {
     "name": "#%%\n"
    }
   },
   "outputs": [],
   "source": [
    "# ----- Step 1: Load Positive and Negative Pairs -----\n",
    "df = pd.read_csv('arxiv_research_areas.csv')\n",
    "df_positive = df[df['label']==True]\n",
    "df_negative = df[df['label']==False]\n",
    "\n",
    "# Combine into one DataFrame.\n",
    "df_pairs = pd.concat([df_positive, df_negative], ignore_index=True)"
   ]
  },
  {
   "cell_type": "code",
   "execution_count": 20,
   "metadata": {
    "pycharm": {
     "name": "#%%\n"
    }
   },
   "outputs": [],
   "source": [
    "# ----- Step 2: Create a Text Representation for Each Paper -----\n",
    "# Here we combine title and abstract into a single \"definition\" for each paper.\n",
    "df_pairs[\"paper1_text\"] = df_pairs[\"focal_entity\"] + \". \" + df_pairs[\"description_of_focal_entity\"]\n",
    "df_pairs[\"paper2_text\"] = df_pairs[\"candidate_entity\"] + \". \" + df_pairs[\"description_of_candidate_entity\"]"
   ]
  },
  {
   "cell_type": "code",
   "execution_count": 21,
   "metadata": {
    "pycharm": {
     "name": "#%%\n"
    }
   },
   "outputs": [],
   "source": [
    "# ----- Step 3: Prepare Data for Embedding Generation -----\n",
    "X1 = df_pairs['paper1_text'].tolist()\n",
    "X2 = df_pairs['paper2_text'].tolist()\n",
    "y = df_pairs['label'].tolist()"
   ]
  },
  {
   "cell_type": "code",
   "execution_count": null,
   "metadata": {
    "pycharm": {
     "name": "#%%\n",
     "is_executing": true
    }
   },
   "outputs": [],
   "source": [
    "# ----- Step 4: Generate Embeddings Using OpenAIEmbeddings -----\n",
    "embeddings_model = OpenAIEmbeddings()\n",
    "\n",
    "# Generate embeddings for each paper text (this may take a while if you have many pairs)\n",
    "embeddings1 = embeddings_model.embed_documents(X1)\n",
    "embeddings2 = embeddings_model.embed_documents(X2)"
   ]
  },
  {
   "cell_type": "code",
   "execution_count": null,
   "metadata": {
    "pycharm": {
     "name": "#%%\n",
     "is_executing": true
    }
   },
   "outputs": [],
   "source": [
    "# ----- Step 5: Combine Embeddings into a Single Feature Vector per Pair -----\n",
    "# Here we concatenate the two embeddings.\n",
    "features = [np.concatenate([np.array(e1), np.array(e2)]) for e1, e2 in zip(embeddings1, embeddings2)]\n",
    "features = np.array(features)"
   ]
  },
  {
   "cell_type": "code",
   "execution_count": null,
   "metadata": {
    "pycharm": {
     "name": "#%%\n",
     "is_executing": true
    }
   },
   "outputs": [],
   "source": [
    "# ----- Step 6: Train/Test Split -----\n",
    "train_X, test_X, train_y, test_y = train_test_split(features, y, test_size=0.2, random_state=42)"
   ]
  },
  {
   "cell_type": "code",
   "execution_count": null,
   "metadata": {
    "pycharm": {
     "name": "#%%\n",
     "is_executing": true
    }
   },
   "outputs": [],
   "source": [
    "# ----- Step 7: Train a Logistic Regression Classifier -----\n",
    "clf = LogisticRegression(max_iter=1000)\n",
    "clf.fit(train_X, train_y)"
   ]
  },
  {
   "cell_type": "code",
   "execution_count": null,
   "metadata": {
    "pycharm": {
     "name": "#%%\n",
     "is_executing": true
    }
   },
   "outputs": [],
   "source": [
    "# ----- Step 8: Evaluate the Classifier -----\n",
    "pred_y = clf.predict(test_X)\n",
    "report = classification_report(test_y, pred_y)\n",
    "print(\"Classification Report:\\n\", report)"
   ]
  },
  {
   "cell_type": "code",
   "execution_count": 17,
   "metadata": {
    "pycharm": {
     "name": "#%%\n"
    }
   },
   "outputs": [
    {
     "name": "stdout",
     "output_type": "stream",
     "text": [
      "=== Logistic Regression ===\n",
      "Accuracy:    0.68\n",
      "Precision:   0.64\n",
      "Recall:      0.77\n",
      "Specificity: 0.60\n",
      "F1 Score:    0.70\n",
      "=== GaussianNB ===\n",
      "Accuracy:    0.69\n",
      "Precision:   0.64\n",
      "Recall:      0.80\n",
      "Specificity: 0.58\n",
      "F1 Score:    0.71\n",
      "=== MLPClassifier ===\n",
      "Accuracy:    0.59\n",
      "Precision:   0.57\n",
      "Recall:      0.58\n",
      "Specificity: 0.60\n",
      "F1 Score:    0.58\n"
     ]
    }
   ],
   "source": [
    "# ----- Step 7: Define and Train Classifiers -----\n",
    "# Initialize classifiers.\n",
    "classifiers = {\n",
    "    \"Logistic Regression\": LogisticRegression(max_iter=1000),\n",
    "    \"GaussianNB\": GaussianNB(),\n",
    "    \"MLPClassifier\": MLPClassifier(max_iter=1000),\n",
    "}\n",
    "\n",
    "# Train and evaluate each classifier.\n",
    "from sklearn.metrics import confusion_matrix, accuracy_score, precision_score, recall_score, f1_score\n",
    "\n",
    "for clf_name, clf in classifiers.items():\n",
    "    clf.fit(train_X, train_y)\n",
    "    pred_y = clf.predict(test_X)\n",
    "    print(f\"=== {clf_name} ===\")\n",
    "    cm = confusion_matrix(test_y, pred_y)\n",
    "    tn, fp, fn, tp = cm.ravel()  # only valid for binary classification\n",
    "\n",
    "    accuracy = (tp + tn) / (tp + tn + fp + fn)\n",
    "    precision = tp / (tp + fp) if (tp + fp) > 0 else 0\n",
    "    recall = tp / (tp + fn) if (tp + fn) > 0 else 0\n",
    "    specificity = tn / (tn + fp) if (tn + fp) > 0 else 0\n",
    "    f1 = 2 * (precision * recall) / (precision + recall) if (precision + recall) > 0 else 0\n",
    "\n",
    "    # Print in desired order\n",
    "    print(f\"Accuracy:    {accuracy:.2f}\")\n",
    "    print(f\"Precision:   {precision:.2f}\")\n",
    "    print(f\"Recall:      {recall:.2f}\")\n",
    "    print(f\"Specificity: {specificity:.2f}\")\n",
    "    print(f\"F1 Score:    {f1:.2f}\")\n",
    "\n"
   ]
  },
  {
   "cell_type": "code",
   "execution_count": null,
   "outputs": [],
   "source": [],
   "metadata": {
    "collapsed": false,
    "pycharm": {
     "name": "#%%\n"
    }
   }
  }
 ],
 "metadata": {
  "kernelspec": {
   "display_name": ".venv",
   "language": "python",
   "name": "python3"
  },
  "language_info": {
   "codemirror_mode": {
    "name": "ipython",
    "version": 3
   },
   "file_extension": ".py",
   "mimetype": "text/x-python",
   "name": "python",
   "nbconvert_exporter": "python",
   "pygments_lexer": "ipython3",
   "version": "3.12.9"
  }
 },
 "nbformat": 4,
 "nbformat_minor": 2
}